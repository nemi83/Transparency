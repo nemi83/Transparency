{
 "cells": [
  {
   "cell_type": "code",
   "execution_count": 3,
   "metadata": {},
   "outputs": [],
   "source": [
    "import pandas as pd\n",
    "import matplotlib.pyplot as plt\n",
    "import numpy as np\n",
    "import seaborn as sns\n",
    "\n",
    "trans = pd.read_excel(\"/home/tina/Documents/UPPD/Izola/Erar-OBCINAIZOLA.xlsx\")"
   ]
  },
  {
   "cell_type": "code",
   "execution_count": 4,
   "metadata": {},
   "outputs": [
    {
     "data": {
      "text/html": [
       "<div>\n",
       "<style scoped>\n",
       "    .dataframe tbody tr th:only-of-type {\n",
       "        vertical-align: middle;\n",
       "    }\n",
       "\n",
       "    .dataframe tbody tr th {\n",
       "        vertical-align: top;\n",
       "    }\n",
       "\n",
       "    .dataframe thead th {\n",
       "        text-align: right;\n",
       "    }\n",
       "</style>\n",
       "<table border=\"1\" class=\"dataframe\">\n",
       "  <thead>\n",
       "    <tr style=\"text-align: right;\">\n",
       "      <th></th>\n",
       "      <th>ID dokumenta</th>\n",
       "      <th>Prejeto</th>\n",
       "      <th>Plačnik</th>\n",
       "      <th>Prejemnik</th>\n",
       "      <th>Referenca v dobro</th>\n",
       "      <th>Znesek</th>\n",
       "      <th>Datum plačila</th>\n",
       "    </tr>\n",
       "  </thead>\n",
       "  <tbody>\n",
       "    <tr>\n",
       "      <th>0</th>\n",
       "      <td>12864155</td>\n",
       "      <td>2018-01-26 14:57:12</td>\n",
       "      <td>OBČINA IZOLA</td>\n",
       "      <td>VGP DRAVA Ptuj d.o.o.</td>\n",
       "      <td>SI00006542-18001</td>\n",
       "      <td>1220.00</td>\n",
       "      <td>27. 2. 2018</td>\n",
       "    </tr>\n",
       "    <tr>\n",
       "      <th>1</th>\n",
       "      <td>12863700</td>\n",
       "      <td>2018-01-26 14:26:46</td>\n",
       "      <td>OBČINA IZOLA</td>\n",
       "      <td>ZDRAVSTVENI DOM KOPER CASA DELLA SANITA CAPODI...</td>\n",
       "      <td>NaN</td>\n",
       "      <td>1280.00</td>\n",
       "      <td>Ni podatka o plačilu</td>\n",
       "    </tr>\n",
       "    <tr>\n",
       "      <th>2</th>\n",
       "      <td>12863437</td>\n",
       "      <td>2018-01-26 14:10:41</td>\n",
       "      <td>OBČINA IZOLA</td>\n",
       "      <td>RIŽANSKI VODOVOD KOPER d.o.o. - s.r.l.</td>\n",
       "      <td>SI125001800287764</td>\n",
       "      <td>8.86</td>\n",
       "      <td>27. 2. 2018</td>\n",
       "    </tr>\n",
       "    <tr>\n",
       "      <th>3</th>\n",
       "      <td>12863418</td>\n",
       "      <td>2018-01-26 14:10:39</td>\n",
       "      <td>OBČINA IZOLA</td>\n",
       "      <td>RIŽANSKI VODOVOD KOPER d.o.o. - s.r.l.</td>\n",
       "      <td>SI125001800313862</td>\n",
       "      <td>5.70</td>\n",
       "      <td>27. 2. 2018</td>\n",
       "    </tr>\n",
       "    <tr>\n",
       "      <th>4</th>\n",
       "      <td>12862904</td>\n",
       "      <td>2018-01-26 13:49:47</td>\n",
       "      <td>OBČINA IZOLA</td>\n",
       "      <td>Uvid.si d.o.o.</td>\n",
       "      <td>SI0004-18</td>\n",
       "      <td>122.00</td>\n",
       "      <td>27. 2. 2018</td>\n",
       "    </tr>\n",
       "  </tbody>\n",
       "</table>\n",
       "</div>"
      ],
      "text/plain": [
       "   ID dokumenta              Prejeto       Plačnik  \\\n",
       "0      12864155  2018-01-26 14:57:12  OBČINA IZOLA   \n",
       "1      12863700  2018-01-26 14:26:46  OBČINA IZOLA   \n",
       "2      12863437  2018-01-26 14:10:41  OBČINA IZOLA   \n",
       "3      12863418  2018-01-26 14:10:39  OBČINA IZOLA   \n",
       "4      12862904  2018-01-26 13:49:47  OBČINA IZOLA   \n",
       "\n",
       "                                           Prejemnik  Referenca v dobro  \\\n",
       "0                              VGP DRAVA Ptuj d.o.o.   SI00006542-18001   \n",
       "1  ZDRAVSTVENI DOM KOPER CASA DELLA SANITA CAPODI...                NaN   \n",
       "2             RIŽANSKI VODOVOD KOPER d.o.o. - s.r.l.  SI125001800287764   \n",
       "3             RIŽANSKI VODOVOD KOPER d.o.o. - s.r.l.  SI125001800313862   \n",
       "4                                     Uvid.si d.o.o.          SI0004-18   \n",
       "\n",
       "    Znesek         Datum plačila  \n",
       "0  1220.00           27. 2. 2018  \n",
       "1  1280.00  Ni podatka o plačilu  \n",
       "2     8.86           27. 2. 2018  \n",
       "3     5.70           27. 2. 2018  \n",
       "4   122.00           27. 2. 2018  "
      ]
     },
     "execution_count": 4,
     "metadata": {},
     "output_type": "execute_result"
    }
   ],
   "source": [
    "trans.head()"
   ]
  },
  {
   "cell_type": "code",
   "execution_count": 5,
   "metadata": {},
   "outputs": [],
   "source": [
    "table = pd.pivot_table(trans, values='Znesek', index=['Prejemnik'], aggfunc=np.sum)"
   ]
  },
  {
   "cell_type": "code",
   "execution_count": 6,
   "metadata": {},
   "outputs": [
    {
     "data": {
      "text/html": [
       "<div>\n",
       "<style scoped>\n",
       "    .dataframe tbody tr th:only-of-type {\n",
       "        vertical-align: middle;\n",
       "    }\n",
       "\n",
       "    .dataframe tbody tr th {\n",
       "        vertical-align: top;\n",
       "    }\n",
       "\n",
       "    .dataframe thead th {\n",
       "        text-align: right;\n",
       "    }\n",
       "</style>\n",
       "<table border=\"1\" class=\"dataframe\">\n",
       "  <thead>\n",
       "    <tr style=\"text-align: right;\">\n",
       "      <th></th>\n",
       "      <th>Znesek</th>\n",
       "    </tr>\n",
       "    <tr>\n",
       "      <th>Prejemnik</th>\n",
       "      <th></th>\n",
       "    </tr>\n",
       "  </thead>\n",
       "  <tbody>\n",
       "    <tr>\n",
       "      <th>2D - ambienti d.o.o.</th>\n",
       "      <td>2935.83</td>\n",
       "    </tr>\n",
       "    <tr>\n",
       "      <th>3 PORT d.o.o. Koper</th>\n",
       "      <td>5636.40</td>\n",
       "    </tr>\n",
       "    <tr>\n",
       "      <th>A1 Slovenija, d. d.</th>\n",
       "      <td>2840.92</td>\n",
       "    </tr>\n",
       "    <tr>\n",
       "      <th>AAS d.o.o., Ljubljana</th>\n",
       "      <td>435.40</td>\n",
       "    </tr>\n",
       "    <tr>\n",
       "      <th>ABANKA d.d.</th>\n",
       "      <td>18493.69</td>\n",
       "    </tr>\n",
       "    <tr>\n",
       "      <th>...</th>\n",
       "      <td>...</td>\n",
       "    </tr>\n",
       "    <tr>\n",
       "      <th>Zavod VOZIM</th>\n",
       "      <td>305.00</td>\n",
       "    </tr>\n",
       "    <tr>\n",
       "      <th>Zavod eVITA</th>\n",
       "      <td>84.00</td>\n",
       "    </tr>\n",
       "    <tr>\n",
       "      <th>ŠKERJANC d.o.o.</th>\n",
       "      <td>7340.12</td>\n",
       "    </tr>\n",
       "    <tr>\n",
       "      <th>ŠKOFIJSKA KARITAS KOPER</th>\n",
       "      <td>3958.34</td>\n",
       "    </tr>\n",
       "    <tr>\n",
       "      <th>ŠS d.o.o.</th>\n",
       "      <td>18495.95</td>\n",
       "    </tr>\n",
       "  </tbody>\n",
       "</table>\n",
       "<p>324 rows × 1 columns</p>\n",
       "</div>"
      ],
      "text/plain": [
       "                           Znesek\n",
       "Prejemnik                        \n",
       "2D - ambienti d.o.o.      2935.83\n",
       "3 PORT d.o.o. Koper       5636.40\n",
       "A1 Slovenija, d. d.       2840.92\n",
       "AAS d.o.o., Ljubljana      435.40\n",
       "ABANKA d.d.              18493.69\n",
       "...                           ...\n",
       "Zavod VOZIM                305.00\n",
       "Zavod eVITA                 84.00\n",
       "ŠKERJANC d.o.o.           7340.12\n",
       "ŠKOFIJSKA KARITAS KOPER   3958.34\n",
       "ŠS d.o.o.                18495.95\n",
       "\n",
       "[324 rows x 1 columns]"
      ]
     },
     "execution_count": 6,
     "metadata": {},
     "output_type": "execute_result"
    }
   ],
   "source": [
    "table"
   ]
  },
  {
   "cell_type": "code",
   "execution_count": 7,
   "metadata": {},
   "outputs": [],
   "source": [
    "table2 = pd.pivot_table(trans, values='Znesek', index=['Prejemnik'], aggfunc={'Znesek': [np.sum, np.mean, min, max, 'count']})"
   ]
  },
  {
   "cell_type": "code",
   "execution_count": 8,
   "metadata": {},
   "outputs": [],
   "source": [
    "table2['cooperation'] = 'not likely'\n",
    "table2.loc[(table2['count'] > 5) & (table2['count'] <= 9), 'cooperation'] = 'likely'\n",
    "table2.loc[(table2['count'] >= 10), 'cooperation'] = 'very likely'"
   ]
  },
  {
   "cell_type": "code",
   "execution_count": 9,
   "metadata": {},
   "outputs": [
    {
     "data": {
      "text/html": [
       "<div>\n",
       "<style scoped>\n",
       "    .dataframe tbody tr th:only-of-type {\n",
       "        vertical-align: middle;\n",
       "    }\n",
       "\n",
       "    .dataframe tbody tr th {\n",
       "        vertical-align: top;\n",
       "    }\n",
       "\n",
       "    .dataframe thead th {\n",
       "        text-align: right;\n",
       "    }\n",
       "</style>\n",
       "<table border=\"1\" class=\"dataframe\">\n",
       "  <thead>\n",
       "    <tr style=\"text-align: right;\">\n",
       "      <th></th>\n",
       "      <th>count</th>\n",
       "      <th>max</th>\n",
       "      <th>mean</th>\n",
       "      <th>min</th>\n",
       "      <th>sum</th>\n",
       "      <th>cooperation</th>\n",
       "    </tr>\n",
       "    <tr>\n",
       "      <th>Prejemnik</th>\n",
       "      <th></th>\n",
       "      <th></th>\n",
       "      <th></th>\n",
       "      <th></th>\n",
       "      <th></th>\n",
       "      <th></th>\n",
       "    </tr>\n",
       "  </thead>\n",
       "  <tbody>\n",
       "    <tr>\n",
       "      <th>2D - ambienti d.o.o.</th>\n",
       "      <td>1</td>\n",
       "      <td>2935.83</td>\n",
       "      <td>2935.830000</td>\n",
       "      <td>2935.83</td>\n",
       "      <td>2935.83</td>\n",
       "      <td>not likely</td>\n",
       "    </tr>\n",
       "    <tr>\n",
       "      <th>3 PORT d.o.o. Koper</th>\n",
       "      <td>7</td>\n",
       "      <td>805.20</td>\n",
       "      <td>805.200000</td>\n",
       "      <td>805.20</td>\n",
       "      <td>5636.40</td>\n",
       "      <td>likely</td>\n",
       "    </tr>\n",
       "    <tr>\n",
       "      <th>A1 Slovenija, d. d.</th>\n",
       "      <td>13</td>\n",
       "      <td>1049.99</td>\n",
       "      <td>218.532308</td>\n",
       "      <td>1.00</td>\n",
       "      <td>2840.92</td>\n",
       "      <td>very likely</td>\n",
       "    </tr>\n",
       "    <tr>\n",
       "      <th>AAS d.o.o., Ljubljana</th>\n",
       "      <td>1</td>\n",
       "      <td>435.40</td>\n",
       "      <td>435.400000</td>\n",
       "      <td>435.40</td>\n",
       "      <td>435.40</td>\n",
       "      <td>not likely</td>\n",
       "    </tr>\n",
       "    <tr>\n",
       "      <th>ABANKA d.d.</th>\n",
       "      <td>12</td>\n",
       "      <td>2877.83</td>\n",
       "      <td>1541.140833</td>\n",
       "      <td>51.39</td>\n",
       "      <td>18493.69</td>\n",
       "      <td>very likely</td>\n",
       "    </tr>\n",
       "    <tr>\n",
       "      <th>...</th>\n",
       "      <td>...</td>\n",
       "      <td>...</td>\n",
       "      <td>...</td>\n",
       "      <td>...</td>\n",
       "      <td>...</td>\n",
       "      <td>...</td>\n",
       "    </tr>\n",
       "    <tr>\n",
       "      <th>Zavod VOZIM</th>\n",
       "      <td>1</td>\n",
       "      <td>305.00</td>\n",
       "      <td>305.000000</td>\n",
       "      <td>305.00</td>\n",
       "      <td>305.00</td>\n",
       "      <td>not likely</td>\n",
       "    </tr>\n",
       "    <tr>\n",
       "      <th>Zavod eVITA</th>\n",
       "      <td>1</td>\n",
       "      <td>84.00</td>\n",
       "      <td>84.000000</td>\n",
       "      <td>84.00</td>\n",
       "      <td>84.00</td>\n",
       "      <td>not likely</td>\n",
       "    </tr>\n",
       "    <tr>\n",
       "      <th>ŠKERJANC d.o.o.</th>\n",
       "      <td>2</td>\n",
       "      <td>6348.55</td>\n",
       "      <td>3670.060000</td>\n",
       "      <td>991.57</td>\n",
       "      <td>7340.12</td>\n",
       "      <td>not likely</td>\n",
       "    </tr>\n",
       "    <tr>\n",
       "      <th>ŠKOFIJSKA KARITAS KOPER</th>\n",
       "      <td>2</td>\n",
       "      <td>2375.01</td>\n",
       "      <td>1979.170000</td>\n",
       "      <td>1583.33</td>\n",
       "      <td>3958.34</td>\n",
       "      <td>not likely</td>\n",
       "    </tr>\n",
       "    <tr>\n",
       "      <th>ŠS d.o.o.</th>\n",
       "      <td>10</td>\n",
       "      <td>3271.44</td>\n",
       "      <td>1849.595000</td>\n",
       "      <td>611.04</td>\n",
       "      <td>18495.95</td>\n",
       "      <td>very likely</td>\n",
       "    </tr>\n",
       "  </tbody>\n",
       "</table>\n",
       "<p>324 rows × 6 columns</p>\n",
       "</div>"
      ],
      "text/plain": [
       "                         count      max         mean      min       sum  \\\n",
       "Prejemnik                                                                 \n",
       "2D - ambienti d.o.o.         1  2935.83  2935.830000  2935.83   2935.83   \n",
       "3 PORT d.o.o. Koper          7   805.20   805.200000   805.20   5636.40   \n",
       "A1 Slovenija, d. d.         13  1049.99   218.532308     1.00   2840.92   \n",
       "AAS d.o.o., Ljubljana        1   435.40   435.400000   435.40    435.40   \n",
       "ABANKA d.d.                 12  2877.83  1541.140833    51.39  18493.69   \n",
       "...                        ...      ...          ...      ...       ...   \n",
       "Zavod VOZIM                  1   305.00   305.000000   305.00    305.00   \n",
       "Zavod eVITA                  1    84.00    84.000000    84.00     84.00   \n",
       "ŠKERJANC d.o.o.              2  6348.55  3670.060000   991.57   7340.12   \n",
       "ŠKOFIJSKA KARITAS KOPER      2  2375.01  1979.170000  1583.33   3958.34   \n",
       "ŠS d.o.o.                   10  3271.44  1849.595000   611.04  18495.95   \n",
       "\n",
       "                         cooperation  \n",
       "Prejemnik                             \n",
       "2D - ambienti d.o.o.      not likely  \n",
       "3 PORT d.o.o. Koper           likely  \n",
       "A1 Slovenija, d. d.      very likely  \n",
       "AAS d.o.o., Ljubljana     not likely  \n",
       "ABANKA d.d.              very likely  \n",
       "...                              ...  \n",
       "Zavod VOZIM               not likely  \n",
       "Zavod eVITA               not likely  \n",
       "ŠKERJANC d.o.o.           not likely  \n",
       "ŠKOFIJSKA KARITAS KOPER   not likely  \n",
       "ŠS d.o.o.                very likely  \n",
       "\n",
       "[324 rows x 6 columns]"
      ]
     },
     "execution_count": 9,
     "metadata": {},
     "output_type": "execute_result"
    }
   ],
   "source": [
    "table2"
   ]
  },
  {
   "cell_type": "code",
   "execution_count": 10,
   "metadata": {},
   "outputs": [
    {
     "name": "stdout",
     "output_type": "stream",
     "text": [
      "[9.25925925925926, 3.0, 26.835482161779343]\n",
      "[24901.195401234574, 2561.145, 104781.34286187583]\n",
      "          count       max      mean       min       sum\n",
      "count  1.000000  0.214263 -0.016643 -0.076502  0.712597\n",
      "max    0.214263  1.000000  0.905534  0.662479  0.501970\n",
      "mean  -0.016643  0.905534  1.000000  0.880186  0.284027\n",
      "min   -0.076502  0.662479  0.880186  1.000000  0.114217\n",
      "sum    0.712597  0.501970  0.284027  0.114217  1.000000\n"
     ]
    }
   ],
   "source": [
    "table2['sum'].max()\n",
    "c_count = [table2['count'].mean(), table2['count'].median(), table2['count'].std()]\n",
    "s_count = [table2['sum'].mean(), table2['sum'].median(), table2['sum'].std()]\n",
    "corel = table2.corr(method ='pearson')\n",
    "print(c_count)\n",
    "print(s_count)\n",
    "print(corel)"
   ]
  },
  {
   "cell_type": "code",
   "execution_count": 11,
   "metadata": {},
   "outputs": [
    {
     "data": {
      "image/png": "[encoded data removed]",
      "text/plain": [
       "<Figure size 432x288 with 1 Axes>"
      ]
     },
     "metadata": {
      "needs_background": "light"
     },
     "output_type": "display_data"
    }
   ],
   "source": [
    "plt.scatter(table2['count'], table2['sum'])\n",
    "plt.title('Scatter plot pythonspot.com')\n",
    "plt.xlabel('count')\n",
    "plt.ylabel('Sum')\n",
    "plt.show()"
   ]
  },
  {
   "cell_type": "code",
   "execution_count": 12,
   "metadata": {},
   "outputs": [
    {
     "data": {
      "text/plain": [
       "<matplotlib.collections.PathCollection at 0x7f813cfb8358>"
      ]
     },
     "execution_count": 12,
     "metadata": {},
     "output_type": "execute_result"
    },
    {
     "data": {
      "image/png": "[encoded data removed]",
      "text/plain": [
       "<Figure size 432x288 with 1 Axes>"
      ]
     },
     "metadata": {
      "needs_background": "light"
     },
     "output_type": "display_data"
    }
   ],
   "source": [
    "from sklearn.cluster import KMeans\n",
    "Z = table2[['count', 'sum']].to_numpy()\n",
    "\n",
    "kmeans = KMeans(n_clusters=3)\n",
    "kmeans.fit(Z)\n",
    "clusters = kmeans.predict(Z)\n",
    "\n",
    "plt.scatter(*Z.T, c=clusters, cmap='viridis')\n"
   ]
  },
  {
   "cell_type": "code",
   "execution_count": 13,
   "metadata": {},
   "outputs": [
    {
     "data": {
      "text/plain": [
       "array([[6.87619048e+00, 1.11737467e+04],\n",
       "       [3.21000000e+02, 1.42516913e+06],\n",
       "       [6.41250000e+01, 3.90385996e+05]])"
      ]
     },
     "execution_count": 13,
     "metadata": {},
     "output_type": "execute_result"
    }
   ],
   "source": [
    "kmeans.cluster_centers_"
   ]
  },
  {
   "cell_type": "code",
   "execution_count": 14,
   "metadata": {},
   "outputs": [
    {
     "data": {
      "image/png": "[encoded data removed]",
      "text/plain": [
       "<Figure size 432x288 with 1 Axes>"
      ]
     },
     "metadata": {
      "needs_background": "light"
     },
     "output_type": "display_data"
    }
   ],
   "source": [
    "from sklearn.datasets import fetch_california_housing\n",
    "from sklearn.cluster import KMeans\n",
    "from sklearn.preprocessing import StandardScaler\n",
    "from sklearn.utils import shuffle\n",
    "\n",
    "# import and shuffle the data\n",
    "data = Z\n",
    "X = data\n",
    "X_shuffled = shuffle(X, random_state=0)\n",
    "\n",
    "scaler = StandardScaler() # need to scale data to make kmeans work properly\n",
    "Xt = scaler.fit_transform(X_shuffled[:500]) # down sample for speed\n",
    "n_clusters = range(1, 200, 2)\n",
    "inertia = []\n",
    "\n",
    "for n in n_clusters:\n",
    "    kmeans = KMeans(n_clusters=n)\n",
    "    kmeans.fit(Xt)\n",
    "    inertia.append(kmeans.inertia_)\n",
    "\n",
    "plt.plot(n_clusters, inertia/inertia[0])\n",
    "plt.hlines(0.1, n_clusters[0], n_clusters[-1], 'r', linestyles='dashed')\n",
    "plt.hlines(0.05, n_clusters[0], n_clusters[-1], 'r', linestyles='dashed')\n",
    "plt.xlabel('clusters')\n",
    "plt.ylabel('relative inertia')\n",
    "plt.legend(['inertia', '10% relative inertia', '5% relative inertia']);"
   ]
  },
  {
   "cell_type": "code",
   "execution_count": 15,
   "metadata": {},
   "outputs": [
    {
     "data": {
      "text/html": [
       "<div>\n",
       "<style scoped>\n",
       "    .dataframe tbody tr th:only-of-type {\n",
       "        vertical-align: middle;\n",
       "    }\n",
       "\n",
       "    .dataframe tbody tr th {\n",
       "        vertical-align: top;\n",
       "    }\n",
       "\n",
       "    .dataframe thead th {\n",
       "        text-align: right;\n",
       "    }\n",
       "</style>\n",
       "<table border=\"1\" class=\"dataframe\">\n",
       "  <thead>\n",
       "    <tr style=\"text-align: right;\">\n",
       "      <th></th>\n",
       "      <th>unscaled mean</th>\n",
       "      <th>unscaled variance</th>\n",
       "      <th>scaled mean</th>\n",
       "      <th>scaled variance</th>\n",
       "    </tr>\n",
       "  </thead>\n",
       "  <tbody>\n",
       "    <tr>\n",
       "      <th>0</th>\n",
       "      <td>9.259259</td>\n",
       "      <td>7.179204e+02</td>\n",
       "      <td>-1.370646e-17</td>\n",
       "      <td>1.0</td>\n",
       "    </tr>\n",
       "    <tr>\n",
       "      <th>1</th>\n",
       "      <td>24901.195401</td>\n",
       "      <td>1.094524e+10</td>\n",
       "      <td>-8.223874e-18</td>\n",
       "      <td>1.0</td>\n",
       "    </tr>\n",
       "  </tbody>\n",
       "</table>\n",
       "</div>"
      ],
      "text/plain": [
       "   unscaled mean  unscaled variance   scaled mean  scaled variance\n",
       "0       9.259259       7.179204e+02 -1.370646e-17              1.0\n",
       "1   24901.195401       1.094524e+10 -8.223874e-18              1.0"
      ]
     },
     "execution_count": 15,
     "metadata": {},
     "output_type": "execute_result"
    }
   ],
   "source": [
    "from sklearn.preprocessing import StandardScaler\n",
    "\n",
    "# create and fit scaler\n",
    "scaler = StandardScaler()\n",
    "scaler.fit(Z)\n",
    "\n",
    "# scale data set\n",
    "Xt = scaler.transform(Z)\n",
    "\n",
    "# create data frame with results\n",
    "stats = np.vstack((Z.mean(axis=0), X.var(axis=0), Xt.mean(axis=0), Xt.var(axis=0))).T\n",
    "#feature_names = table2['feature_names']\n",
    "columns = ['unscaled mean', 'unscaled variance', 'scaled mean', 'scaled variance']\n",
    "\n",
    "df = pd.DataFrame(stats,  columns=columns)\n",
    "df"
   ]
  },
  {
   "cell_type": "code",
   "execution_count": 22,
   "metadata": {},
   "outputs": [
    {
     "name": "stdout",
     "output_type": "stream",
     "text": [
      "Number of features in X: 2\n",
      "Number of features Xt: 2\n",
      "Count mean before transformation? 9.25925925925926\n",
      "Count mean before transformation? -1.3706457094137734e-17\n",
      "Sum mean before transformation? 24901.195401234574\n",
      "Sum mean before transformation? -8.22387425648264e-18\n"
     ]
    }
   ],
   "source": [
    "from sklearn.compose import ColumnTransformer\n",
    "col_transformer = ColumnTransformer(\n",
    "    remainder='passthrough',\n",
    "    transformers=[\n",
    "        ('remove', 'drop', 0),\n",
    "        ('scaler', StandardScaler(), slice(0,2))\n",
    "    ]\n",
    ")\n",
    "\n",
    "Xt = col_transformer.fit_transform(Z)\n",
    "\n",
    "print('Number of features in X:', X.shape[1])\n",
    "print('Number of features Xt:', Xt.shape[1])\n",
    "print('Count mean before transformation?', Z.mean(axis=0)[0])\n",
    "print('Count mean before transformation?', Xt.mean(axis=0)[0])\n",
    "print('Sum mean before transformation?', Z.mean(axis=0)[1])\n",
    "print('Sum mean before transformation?', Xt.mean(axis=0)[1])"
   ]
  },
  {
   "cell_type": "code",
   "execution_count": 23,
   "metadata": {},
   "outputs": [
    {
     "data": {
      "text/plain": [
       "<matplotlib.collections.PathCollection at 0x7f813c2fd7f0>"
      ]
     },
     "execution_count": 23,
     "metadata": {},
     "output_type": "execute_result"
    },
    {
     "data": {
      "image/png": "[encoded data removed]",
      "text/plain": [
       "<Figure size 432x288 with 1 Axes>"
      ]
     },
     "metadata": {
      "needs_background": "light"
     },
     "output_type": "display_data"
    }
   ],
   "source": [
    "kmeans = KMeans(n_clusters=3)\n",
    "kmeans.fit(Xt)\n",
    "clusters = kmeans.predict(Xt)\n",
    "\n",
    "plt.scatter(*Xt.T, c=clusters, cmap='viridis')"
   ]
  },
  {
   "cell_type": "code",
   "execution_count": 103,
   "metadata": {},
   "outputs": [
    {
     "data": {
      "image/png": "[encoded data removed]",
      "text/plain": [
       "<Figure size 432x288 with 1 Axes>"
      ]
     },
     "metadata": {
      "needs_background": "light"
     },
     "output_type": "display_data"
    }
   ],
   "source": [
    "data = Xt\n",
    "X = data\n",
    "X_shuffled = shuffle(X, random_state=0)\n",
    "\n",
    "scaler = StandardScaler() # need to scale data to make kmeans work properly\n",
    "Xt = scaler.fit_transform(X_shuffled[:500]) # down sample for speed\n",
    "n_clusters = range(1, 200, 2)\n",
    "inertia = []\n",
    "\n",
    "for n in n_clusters:\n",
    "    kmeans = KMeans(n_clusters=n)\n",
    "    kmeans.fit(Xt)\n",
    "    inertia.append(kmeans.inertia_)\n",
    "\n",
    "plt.plot(n_clusters, inertia/inertia[0])\n",
    "plt.hlines(0.1, n_clusters[0], n_clusters[-1], 'r', linestyles='dashed')\n",
    "plt.hlines(0.05, n_clusters[0], n_clusters[-1], 'r', linestyles='dashed')\n",
    "plt.xlabel('clusters')\n",
    "plt.ylabel('relative inertia')\n",
    "plt.legend(['inertia', '10% relative inertia', '5% relative inertia']);"
   ]
  },
  {
   "cell_type": "code",
   "execution_count": 108,
   "metadata": {},
   "outputs": [
    {
     "data": {
      "text/plain": [
       "<matplotlib.collections.PathCollection at 0x7f69d8884940>"
      ]
     },
     "execution_count": 108,
     "metadata": {},
     "output_type": "execute_result"
    },
    {
     "data": {
      "image/png": "[encoded data removed]",
      "text/plain": [
       "<Figure size 432x288 with 1 Axes>"
      ]
     },
     "metadata": {
      "needs_background": "light"
     },
     "output_type": "display_data"
    }
   ],
   "source": [
    "kmeans = KMeans(n_clusters=4)\n",
    "kmeans.fit(Xt)\n",
    "clusters = kmeans.predict(Xt)\n",
    "\n",
    "plt.scatter(*Xt.T, c=clusters, cmap='viridis')"
   ]
  },
  {
   "cell_type": "code",
   "execution_count": 25,
   "metadata": {},
   "outputs": [
    {
     "data": {
      "image/png": "[encoded data removed]",
      "text/plain": [
       "<Figure size 432x288 with 1 Axes>"
      ]
     },
     "metadata": {
      "needs_background": "light"
     },
     "output_type": "display_data"
    }
   ],
   "source": [
    "from sklearn.preprocessing import StandardScaler\n",
    "from sklearn.decomposition import PCA\n",
    "from sklearn.pipeline import Pipeline\n",
    "\n",
    "# load data set\n",
    "X = Z\n",
    "\n",
    "# truncate to two variables\n",
    "pipe = Pipeline([('scaler', StandardScaler()), ('dim_red', PCA(n_components=2))])\n",
    "Xp = pipe.fit_transform(X)\n",
    "\n",
    "# generate novel/outlier points\n",
    "np.random.seed(1)\n",
    "theta = 2*np.pi*np.random.random(10)\n",
    "X_test = np.vstack((4*np.cos(theta) + np.random.random(10), 4*np.sin(theta) + np.random.random(10)))\n",
    "\n",
    "plt.scatter(*Xp.T)\n",
    "plt.scatter(*X_test, c='red')\n",
    "plt.xlabel('$\\\\xi_1$')\n",
    "plt.ylabel('$\\\\xi_2$');\n",
    "plt.legend([\"training set\", \"novel/outliers\"]);"
   ]
  }
 ],
 "metadata": {
  "kernelspec": {
   "display_name": "Python 3",
   "language": "python",
   "name": "python3"
  },
  "language_info": {
   "codemirror_mode": {
    "name": "ipython",
    "version": 3
   },
   "file_extension": ".py",
   "mimetype": "text/x-python",
   "name": "python",
   "nbconvert_exporter": "python",
   "pygments_lexer": "ipython3",
   "version": "3.7.3"
  }
 },
 "nbformat": 4,
 "nbformat_minor": 4
}
